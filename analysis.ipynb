{
 "cells": [
  {
   "cell_type": "code",
   "execution_count": 1,
   "metadata": {},
   "outputs": [],
   "source": [
    "from queries import run_custom_query\n",
    "from database import add_new_columns, update_stance_categories, update_stance_categories_threshold\n",
    "import database\n",
    "import queries\n",
    "\n",
    "import sys\n",
    "import json\n",
    "import jsonlines\n",
    "import ijson\n",
    "import pandas as pd\n",
    "\n",
    "full = \"../data/dataset_full_all_fields_v2.jsonl\"\n",
    "public = \"../data/dataset_zenodo.jsonl\""
   ]
  },
  {
   "cell_type": "code",
   "execution_count": null,
   "metadata": {},
   "outputs": [],
   "source": [
    "# Set file paths\n",
    "jsonl_file = \"../data/dataset_full_all_fields_v2.jsonl\"\n",
    "db_file = \"data.db\"\n",
    "\n",
    "# Remove the existing database if necessary\n",
    "import os\n",
    "if os.path.exists(db_file):\n",
    "    os.remove(db_file)\n",
    "\n",
    "# Recreate the database\n",
    "conn = database.create_connection(db_file)\n",
    "database.create_table(conn)\n",
    "\n",
    "# Load JSONL data into the database\n",
    "print(\"Loading data into the database...\")\n",
    "database.load_data(conn, jsonl_file)\n",
    "print(\"Data loaded successfully.\")\n",
    "\n",
    "# Close the connection\n",
    "conn.close()"
   ]
  },
  {
   "cell_type": "code",
   "execution_count": 2,
   "metadata": {},
   "outputs": [],
   "source": [
    "conn = database.create_connection(\"data.db\")"
   ]
  },
  {
   "cell_type": "code",
   "execution_count": null,
   "metadata": {},
   "outputs": [],
   "source": [
    "# Add New Columns\n",
    "add_new_columns(conn)"
   ]
  },
  {
   "cell_type": "code",
   "execution_count": null,
   "metadata": {},
   "outputs": [],
   "source": [
    "# Update Stance Categories\n",
    "update_stance_categories_threshold(conn, 0.8)"
   ]
  },
  {
   "cell_type": "code",
   "execution_count": null,
   "metadata": {},
   "outputs": [],
   "source": [
    "df_full = queries.fetch_first_n_rows(conn, n=5)\n",
    "df_full"
   ]
  },
  {
   "cell_type": "code",
   "execution_count": 28,
   "metadata": {},
   "outputs": [],
   "source": [
    "# Define the query\n",
    "query= \"\"\"\n",
    "WITH stance_data AS (\n",
    "    SELECT \n",
    "        channel AS Media_Outlet, \n",
    "        COUNT(*) AS Tweet_Count,\n",
    "        SUM(pro_russia) AS Pro_Russia,\n",
    "        SUM(pro_ukraine) AS Pro_Ukraine,\n",
    "        SUM(unsure) AS Unsure\n",
    "    FROM records\n",
    "    GROUP BY channel\n",
    "    ORDER BY Tweet_Count DESC\n",
    ")\n",
    "\n",
    "SELECT * FROM stance_data;\n",
    "\"\"\"\n",
    "\n",
    "result = run_custom_query(conn, query)"
   ]
  },
  {
   "cell_type": "code",
   "execution_count": null,
   "metadata": {},
   "outputs": [],
   "source": [
    "columns = [\"Media Outlet\", \"Tweet_Count\", \"Pro_Russia\", \"Pro_Ukraine\", \"Unsure\"]\n",
    "df = pd.DataFrame(result, columns=columns)\n",
    "df"
   ]
  },
  {
   "cell_type": "code",
   "execution_count": null,
   "metadata": {},
   "outputs": [],
   "source": [
    "import matplotlib.pyplot as plt\n",
    "import geopandas as gpd\n",
    "\n",
    "# Function to calculate proportions with a minimum pro-Russia + pro-Ukraine tweet count threshold\n",
    "def calculate_proportions(df, min_combined_count=100):\n",
    "    df_filtered = df[(df['Pro_Russia'] + df['Pro_Ukraine']) >= min_combined_count]\n",
    "    df_filtered[\"Proportion_Pro_Russia\"] = (df_filtered[\"Pro_Russia\"] / df_filtered[\"Tweet_Count\"]).round(2)\n",
    "    df_filtered[\"Proportion_Pro_Ukraine\"] = (df_filtered[\"Pro_Ukraine\"] / df_filtered[\"Tweet_Count\"]).round(2)\n",
    "    df_filtered[\"Pro_Ukraine_to_Pro_Russia\"] = (df_filtered[\"Proportion_Pro_Ukraine\"] / df_filtered[\"Proportion_Pro_Russia\"]).round(2)\n",
    "    df_cleaned = df_filtered.dropna(subset=[\"Pro_Ukraine_to_Pro_Russia\"])\n",
    "    return df_cleaned[df_cleaned[\"Pro_Ukraine_to_Pro_Russia\"].notna()][[\"Media Outlet\", \"Proportion_Pro_Russia\", \"Proportion_Pro_Ukraine\", \"Pro_Ukraine_to_Pro_Russia\"]]\n",
    "\n",
    "# Function to visualize proportions as a bar plot\n",
    "def visualize_proportions(df, save_path=\"../plots/plot_5.png\"):\n",
    "    df = df.dropna(subset=[\"Pro_Ukraine_to_Pro_Russia\"])\n",
    "    df.sort_values(by='Pro_Ukraine_to_Pro_Russia', ascending=False, inplace=True)\n",
    "    fig, ax = plt.subplots(figsize=(15, 8))\n",
    "\n",
    "    # Create bar plot\n",
    "    ax.bar(df['Media Outlet'], df['Pro_Ukraine_to_Pro_Russia'], color='skyblue')\n",
    "    ax.set_xlabel('Media Outlet', fontsize=14)\n",
    "    ax.set_ylabel('Pro-Ukraine to Pro-Russia Ratio', fontsize=14)\n",
    "    ax.set_title('Top 20: Pro-Ukraine to Pro-Russia Stance by Media Outlet', fontsize=16)\n",
    "    plt.xticks(rotation=45, ha='right')\n",
    "    plt.grid(axis='y', linestyle='--', alpha=0.7)\n",
    "    if save_path:\n",
    "        plt.savefig(save_path, bbox_inches='tight')\n",
    "    plt.show()\n",
    "\n",
    "\n",
    "result_df = calculate_proportions(df)\n",
    "# Sort result_df by descending Pro_Ukraine_to_Pro_Russia value\n",
    "sorted_df = result_df.sort_values(by='Pro_Ukraine_to_Pro_Russia', ascending=False)\n",
    "top_20 = sorted_df.head(20)\n",
    "bottom_20 = sorted_df.tail(20)\n",
    "visualize_proportions(top_20)\n",
    "top_20"
   ]
  }
 ],
 "metadata": {
  "kernelspec": {
   "display_name": ".venv",
   "language": "python",
   "name": "python3"
  },
  "language_info": {
   "codemirror_mode": {
    "name": "ipython",
    "version": 3
   },
   "file_extension": ".py",
   "mimetype": "text/x-python",
   "name": "python",
   "nbconvert_exporter": "python",
   "pygments_lexer": "ipython3",
   "version": "3.12.3"
  }
 },
 "nbformat": 4,
 "nbformat_minor": 2
}
